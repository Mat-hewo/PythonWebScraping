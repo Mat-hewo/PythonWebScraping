{
 "cells": [
  {
   "cell_type": "code",
   "execution_count": 60,
   "id": "e85baab3",
   "metadata": {},
   "outputs": [],
   "source": [
    "# Import libraries\n",
    "from bs4 import BeautifulSoup\n",
    "import requests\n",
    "import time\n",
    "from datetime import datetime, date\n",
    "import smtplib\n",
    "import csv\n",
    "import pandas as pd\n",
    " "
   ]
  },
  {
   "cell_type": "code",
   "execution_count": 61,
   "id": "914e6269",
   "metadata": {},
   "outputs": [],
   "source": [
    "#Send mail\n",
    "def send_mail():\n",
    "    server = smtplib.SMTP_SSL('smtp.gmail.com',465)\n",
    "    server.ehlo()\n",
    "    #server.starttls()\n",
    "    server.ehlo()\n",
    "    server.login('mathewoooooo@gmail.com','xxxxxxxxxxxxxx')\n",
    "    \n",
    "    subject = \"The Book you want is below £52.00\"\n",
    "    body = \"Link to book: http://books.toscrape.com/catalogue/a-light-in-the-attic_1000/index.html\"\n",
    "   \n",
    "    msg = f\"Subject: {subject}\\n\\n{body}\"\n",
    "    \n",
    "    server.sendmail(\n",
    "        'mathewoooooo@gmail.com',\n",
    "        msg\n",
    "     \n",
    "    )"
   ]
  },
  {
   "cell_type": "code",
   "execution_count": 71,
   "id": "4aca73d4",
   "metadata": {},
   "outputs": [],
   "source": [
    "def check_price():\n",
    "    URL = 'http://books.toscrape.com/catalogue/a-light-in-the-attic_1000/index.html'\n",
    "\n",
    "    headers = {\"User-Agent\": \"Mozilla/5.0 (Windows NT 10.0; Win64; x64) AppleWebKit/537.36 (KHTML, like Gecko) Chrome/78.0.3904.108 Safari/537.36\", \"Accept-Encoding\":\"gzip, deflate\", \"Accept\":\"text/html,application/xhtml+xml,application/xml;q=0.9,*/*;q=0.8\", \"DNT\":\"1\",\"Connection\":\"close\", \"Upgrade-Insecure-Requests\":\"1\"}\n",
    "\n",
    "    page = requests.get(URL, headers=headers)\n",
    "    soup1 = BeautifulSoup(page.content, \"html.parser\")\n",
    "    soup2 = BeautifulSoup(soup1.prettify(), \"html.parser\")\n",
    "\n",
    "    title = soup2.find(class_=\"col-sm-6 product_main\").find('h1').get_text(strip=True)\n",
    "    price = soup2.find(class_=\"price_color\").get_text(strip=True)[1:]\n",
    "\n",
    "    datetime_ = datetime.now().strftime(\"%d/%m/%Y %H:%M:%S\").split(' ')\n",
    "    \n",
    "    header = ['Date', 'Time', 'Title', 'Price']\n",
    "    data = [datetime_[0],datetime_[1],title, price]\n",
    "\n",
    "    with open ('D:\\practicing_scrape\\BooksToScrapeDataset.csv', 'a+', newline='', encoding='UTF8') as file:\n",
    "        writer = csv.writer(file)\n",
    "        writer.writerow(data)\n",
    "        \n",
    "    if float(price) < 51.77:\n",
    "        send_mail()\n",
    "        \n",
    "\n",
    "\n",
    "    "
   ]
  },
  {
   "cell_type": "code",
   "execution_count": 73,
   "id": "32649e27",
   "metadata": {},
   "outputs": [
    {
     "ename": "KeyboardInterrupt",
     "evalue": "",
     "output_type": "error",
     "traceback": [
      "\u001b[1;31m---------------------------------------------------------------------------\u001b[0m",
      "\u001b[1;31mKeyboardInterrupt\u001b[0m                         Traceback (most recent call last)",
      "Cell \u001b[1;32mIn[73], line 3\u001b[0m\n\u001b[0;32m      1\u001b[0m \u001b[38;5;28;01mwhile\u001b[39;00m(\u001b[38;5;28;01mTrue\u001b[39;00m):\n\u001b[0;32m      2\u001b[0m     check_price()\n\u001b[1;32m----> 3\u001b[0m     time\u001b[38;5;241m.\u001b[39msleep(\u001b[38;5;241m10\u001b[39m)\n",
      "\u001b[1;31mKeyboardInterrupt\u001b[0m: "
     ]
    }
   ],
   "source": [
    "while(True):\n",
    "    check_price()\n",
    "    time.sleep(10)\n",
    "    "
   ]
  },
  {
   "cell_type": "code",
   "execution_count": 74,
   "id": "b2615d36",
   "metadata": {},
   "outputs": [
    {
     "name": "stdout",
     "output_type": "stream",
     "text": [
      "          Date      Time                 Title  Price\n",
      "0   19/11/2023  18:53:25  A Light in the Attic  51.77\n",
      "1   19/11/2023  19:42:35  A Light in the Attic  51.77\n",
      "2   19/11/2023  19:42:46  A Light in the Attic  51.77\n",
      "3   19/11/2023  19:42:56  A Light in the Attic  51.77\n",
      "4   19/11/2023  19:43:06  A Light in the Attic  51.77\n",
      "5   19/11/2023  19:43:16  A Light in the Attic  51.77\n",
      "6   19/11/2023  19:43:27  A Light in the Attic  51.77\n",
      "7   19/11/2023  19:44:16  A Light in the Attic  51.77\n",
      "8   19/11/2023  19:45:37  A Light in the Attic  51.77\n",
      "9   19/11/2023  19:46:02  A Light in the Attic  51.77\n",
      "10  19/11/2023  19:46:12  A Light in the Attic  51.77\n",
      "11  19/11/2023  19:46:23  A Light in the Attic  51.77\n",
      "12  19/11/2023  19:46:33  A Light in the Attic  51.77\n",
      "13  19/11/2023  19:46:43  A Light in the Attic  51.77\n",
      "14  19/11/2023  19:46:54  A Light in the Attic  51.77\n",
      "15  19/11/2023  19:47:04  A Light in the Attic  51.77\n",
      "16  19/11/2023  19:47:19  A Light in the Attic  51.77\n"
     ]
    }
   ],
   "source": [
    "df = pd.read_csv(r'D:\\practicing_scrape\\BooksToScrapeDataset.csv')\n",
    "print(df)"
   ]
  },
  {
   "cell_type": "code",
   "execution_count": null,
   "id": "4f558c8f",
   "metadata": {},
   "outputs": [],
   "source": []
  }
 ],
 "metadata": {
  "kernelspec": {
   "display_name": "Python 3 (ipykernel)",
   "language": "python",
   "name": "python3"
  },
  "language_info": {
   "codemirror_mode": {
    "name": "ipython",
    "version": 3
   },
   "file_extension": ".py",
   "mimetype": "text/x-python",
   "name": "python",
   "nbconvert_exporter": "python",
   "pygments_lexer": "ipython3",
   "version": "3.11.5"
  }
 },
 "nbformat": 4,
 "nbformat_minor": 5
}
